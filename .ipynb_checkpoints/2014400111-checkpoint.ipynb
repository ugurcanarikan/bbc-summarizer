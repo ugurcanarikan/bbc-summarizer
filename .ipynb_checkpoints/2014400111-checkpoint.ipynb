{
 "cells": [
  {
   "cell_type": "markdown",
   "metadata": {},
   "source": [
    "# CMPE 493 Assignment 3\n",
    "### Initial Notes\n",
    "* Written with python3, tested in MacOS Mojave 10.14.4\n",
    "* All the requirements were seemed to be complete\n",
    "* Sections with no expected time to complete are supposed to complete within 1 second."
   ]
  },
  {
   "cell_type": "code",
   "execution_count": 1,
   "metadata": {},
   "outputs": [],
   "source": [
    "import re\n",
    "import os\n",
    "import pickle\n",
    "from collections import Counter\n",
    "import math\n",
    "import collections\n",
    "import operator\n",
    "import random\n",
    "from rouge import Rouge\n",
    "import numpy as np\n",
    "import matplotlib.pyplot as plt"
   ]
  },
  {
   "cell_type": "code",
   "execution_count": 2,
   "metadata": {},
   "outputs": [],
   "source": [
    "VECTOR_PATH = '../glove.6B.200d.pkl'\n",
    "ARTICLES_PATH = '../articles/'\n",
    "GOLD_SUMMARIES_PATH = '../gold_summaries/'\n",
    "\n",
    "VECTOR_LENGTH = 200\n",
    "DOC_NUMBER = 2225\n",
    "FOLD_LENGTH = 200   # each fold consists of 200 documents, then 10 folds for the cross-validation process\n",
    "                    # if number of training documents is 2000"
   ]
  },
  {
   "cell_type": "markdown",
   "metadata": {},
   "source": [
    "* Takes ~10 Seconds"
   ]
  },
  {
   "cell_type": "code",
   "execution_count": 3,
   "metadata": {},
   "outputs": [],
   "source": [
    "with open(VECTOR_PATH, 'rb') as f:\n",
    "    vector = pickle.load(f)"
   ]
  },
  {
   "cell_type": "code",
   "execution_count": 4,
   "metadata": {},
   "outputs": [],
   "source": [
    "# Remove punctuations from the text\n",
    "def remove_punctuations(text):\n",
    "    punctuations = ['\"', '!', '^', '%', '<', '+', '~', '*', ';', ':', '(', '?', '&', '}', ']', '|', ',', \"'\", ')', '-', '#', '`', '@', '/', '$', '_', '{', '.', '>', '[', '\\\\', '=']\n",
    "    for punctuation in punctuations:\n",
    "        text = text.replace(punctuation, \" \")\n",
    "    return text"
   ]
  },
  {
   "cell_type": "markdown",
   "metadata": {},
   "source": [
    "Parses documents to sentences by sentence tokenizing. \n",
    "Returns a list of lists that consists of the sentences and a dictionary that has the name of the document as key and list of the sentences for that document as array.\n",
    "* lower: lower bound index of the documents that are going to be parsed \n",
    "* upper: upper bound index of the documents that are going to be parsed "
   ]
  },
  {
   "cell_type": "code",
   "execution_count": 5,
   "metadata": {},
   "outputs": [],
   "source": [
    "def parse_documents_to_sentences(lower=None, upper=None):\n",
    "    docs_by_sentences = []\n",
    "    docs_dict = dict()\n",
    "    articles = []\n",
    "    for (dirpath, dirnames, filenames) in os.walk(ARTICLES_PATH):\n",
    "        articles.extend(filenames)\n",
    "        break\n",
    "    articles = sorted(sorted(articles), key=str.upper)\n",
    "    if lower == None:\n",
    "        lower = 0\n",
    "    if upper == None:\n",
    "        upper = len(articles)\n",
    "    for article in articles[lower:upper]:\n",
    "        docs_dict.setdefault(article, '')\n",
    "        with open(ARTICLES_PATH + article, encoding=\"utf8\", errors='ignore') as f:\n",
    "            text = f.read().strip().lower()\n",
    "            sentences = re.split(r'(?<!\\w\\.\\w.)(?<![A-Z][a-z]\\.)(?<=\\.|\\?)\\s', text)\n",
    "            sentences = [remove_punctuations(sentence) for sentence in sentences]\n",
    "            docs_by_sentences.append(sentences)\n",
    "            docs_dict[article] = sentences\n",
    "    return docs_by_sentences, docs_dict"
   ]
  },
  {
   "cell_type": "markdown",
   "metadata": {},
   "source": [
    "Parses golden summaries to sentences by sentence tokenizing. \n",
    "Returns a list of lists that consists of the sentences and a dictionary that has the name of the document as key and list of the sentences for that document as array.\n",
    "* lower: lower bound index of the documents that are going to be parsed \n",
    "* upper: upper bound index of the documents that are going to be parsed "
   ]
  },
  {
   "cell_type": "code",
   "execution_count": 6,
   "metadata": {},
   "outputs": [],
   "source": [
    "def read_golden_summaries(lower=None, upper=None):\n",
    "    summaries = []\n",
    "    summaries_dict = dict()\n",
    "    summary_files = []\n",
    "    for (dirpath, dirnames, filenames) in os.walk(GOLD_SUMMARIES_PATH):\n",
    "        summary_files.extend(filenames)\n",
    "        break\n",
    "    summary_files = sorted(sorted(summary_files), key=str.upper)\n",
    "    if lower == None:\n",
    "        lower = 0\n",
    "    if upper == None:\n",
    "        upper = len(summary_files)\n",
    "    for summary in summary_files[lower:upper]:\n",
    "        summaries_dict.setdefault(summary, '')\n",
    "        with open(GOLD_SUMMARIES_PATH + summary, encoding=\"utf8\", errors='ignore') as f:\n",
    "            text = f.read()\n",
    "            summaries.append(text)\n",
    "            summaries_dict[summary] = text\n",
    "    return summaries, summaries_dict"
   ]
  },
  {
   "cell_type": "markdown",
   "metadata": {},
   "source": [
    "## Sentence Representation\n",
    "\n",
    "**sent2vec_by_averaging** forms sentence vector represantation of a sentence by simply taking the average of all its words' vectors if they are not stopwords\n"
   ]
  },
  {
   "cell_type": "code",
   "execution_count": 7,
   "metadata": {},
   "outputs": [],
   "source": [
    "def sent2vec_by_averaging(docs_by_sentences, vector=vector): \n",
    "    docs_by_vectors = []\n",
    "    stopwords = ['a', 'all', 'an', 'and', 'any', 'are', 'as', 'be', 'been', 'but', 'by ', 'few', 'for', 'have', 'he', 'her', 'here', 'him', 'his', 'how', 'i', 'in', 'is', 'it', 'its', 'many', 'me', 'my', 'none', 'of', 'on ', 'or', 'our', 'she', 'some', 'the', 'their', 'them', 'there', 'they', 'that ', 'this', 'us', 'was', 'what', 'when', 'where', 'which', 'who', 'why', 'will', 'with', 'you', 'your']\n",
    "\n",
    "    #docs_by_vectors_dict = dict()\n",
    "    \n",
    "    for doc in docs_by_sentences:  #for each document\n",
    "        sentences_by_vectors = []\n",
    "        for sentence in doc:   #for each sentence in the document\n",
    "            sentence_vector = [0 for i in range(VECTOR_LENGTH)]  # initialize the sentence representation vector\n",
    "            sentence_length = 0\n",
    "            for word in sentence.split():  # for each word in the sentence sum their vectors\n",
    "                if word in vector.keys() and word not in stopwords:\n",
    "                    sentence_vector = [x + y for x, y in zip(sentence_vector, vector[word])]\n",
    "                    sentence_length += 1\n",
    "            if sentence_length != 0:   # take the average \n",
    "                sentence_vector = [x / sentence_length for x in sentence_vector]\n",
    "                sentences_by_vectors.append(sentence_vector)\n",
    "        docs_by_vectors.append(sentences_by_vectors)\n",
    "    \n",
    "    return docs_by_vectors"
   ]
  },
  {
   "cell_type": "markdown",
   "metadata": {},
   "source": [
    "## KMeans\n",
    "\n",
    "There are 2 main kmeans methods two construct 2 models: fixed number of clusters method and elbow method.\n",
    "\n",
    "In the fixed number of clusters method, cluster number is always set to 5, regardless of the lenght or content of the document.\n",
    "\n",
    "In the elbow method for kmeans clustering, clustering wtih number of clusters of 5, 10 and 15 are done, within sums of squares are computed and the cluster with the least wss is chosen."
   ]
  },
  {
   "cell_type": "code",
   "execution_count": 8,
   "metadata": {},
   "outputs": [],
   "source": [
    "# finds the euclidian distace between 2 points\n",
    "def get_euclidian_distance(vector1, vector2):\n",
    "    if type(vector1) is not list or type(vector2) is not list:\n",
    "        return \n",
    "    elif len(vector1) != len(vector2):\n",
    "        raise ValueError('vector dimensions not equal')\n",
    "    else:\n",
    "        return math.sqrt(sum([(x  - y) ** 2 for x, y in zip(vector1, vector2)]))"
   ]
  },
  {
   "cell_type": "code",
   "execution_count": 9,
   "metadata": {},
   "outputs": [],
   "source": [
    "# calculates the centroid of a list of points\n",
    "def calculate_centroid(vector_list, number_of_dimensions=200):\n",
    "    total_list = [0 for i in range(number_of_dimensions)]\n",
    "    for i in range(len(vector_list)):\n",
    "        total_list = [x + y for x, y in zip(total_list, vector_list[i])]\n",
    "    if len(vector_list) != 0:\n",
    "        total_list = [x / len(vector_list) for x in total_list]\n",
    "        return total_list\n",
    "    else:\n",
    "        return -1"
   ]
  },
  {
   "cell_type": "code",
   "execution_count": 10,
   "metadata": {},
   "outputs": [],
   "source": [
    "# given a list, returns the max and min values among its elements for all dimensions \n",
    "def get_max_min_lists(vector_list, number_of_dimensions=200):\n",
    "    max_list = [-1 * math.inf for i in range(number_of_dimensions)]\n",
    "    min_list = [math.inf for i in range(number_of_dimensions)]\n",
    "    for i in range(len(vector_list)):\n",
    "        max_list = [max(x, y) for x, y in zip(max_list, vector_list[i])]\n",
    "        min_list = [min(x, y) for x, y in zip(min_list, vector_list[i])]\n",
    "    return max_list, min_list"
   ]
  },
  {
   "cell_type": "code",
   "execution_count": 11,
   "metadata": {},
   "outputs": [],
   "source": [
    "# returns the wss value of the given documents, centroids and assignments\n",
    "def get_wss(docs_as_vectors, assignments, centroids):\n",
    "    wss = 0\n",
    "    for i in range(len(docs_as_vectors)):\n",
    "        wss += get_euclidian_distance(docs_as_vectors[i], centroids[assignments[i]]) ** 2\n",
    "    return wss      "
   ]
  },
  {
   "cell_type": "code",
   "execution_count": 12,
   "metadata": {},
   "outputs": [],
   "source": [
    "# returns the closest point to the centroid among the given vectors\n",
    "def get_closest_point(centroid, vectors):\n",
    "    distance = math.inf\n",
    "    closest = None\n",
    "    for vector in vectors:\n",
    "        if get_euclidian_distance(vector, centroid) < distance:\n",
    "            distance = get_euclidian_distance(vector, centroid)\n",
    "            closest = vector\n",
    "    return closest"
   ]
  },
  {
   "cell_type": "code",
   "execution_count": 13,
   "metadata": {},
   "outputs": [],
   "source": [
    "# clusters given list of vectors, returns assignment list and centroid list\n",
    "def cluster(docs_as_vectors, number_of_dimensions=200, number_of_clusters=5):\n",
    "    max_list, min_list = get_max_min_lists(docs_as_vectors)\n",
    "    extracted_summaries = []\n",
    "    centroids = [[0 for i in range(number_of_dimensions)] for j in range(number_of_clusters)]\n",
    "    assignments = [-1 for i in range(len(docs_as_vectors))]\n",
    "    for i in range(len(centroids)):\n",
    "        for j in range(number_of_dimensions):\n",
    "            centroids[i][j] = random.uniform(min_list[j], max_list[j])\n",
    "    updated = True\n",
    "    restart = False\n",
    "    while updated:\n",
    "        updated = False\n",
    "        centroids = [centroid for centroid in centroids if type(centroid) is list]\n",
    "        for vector in docs_as_vectors:\n",
    "            distances = []\n",
    "            for i in range(len(centroids)):\n",
    "                distances.insert(i, get_euclidian_distance(vector, centroids[i]))\n",
    "            if distances:\n",
    "                assignment = distances.index(min(distances))\n",
    "            if assignments[docs_as_vectors.index(vector)] != assignment:\n",
    "                assignments[docs_as_vectors.index(vector)] = assignment\n",
    "                updated = True\n",
    "        for i in range(len(centroids)):\n",
    "            members = [vector for vector in docs_as_vectors if assignments[docs_as_vectors.index(vector)] == i]\n",
    "            centroids[i] = calculate_centroid(members)\n",
    "    return assignments, centroids"
   ]
  },
  {
   "cell_type": "code",
   "execution_count": 14,
   "metadata": {},
   "outputs": [],
   "source": [
    "# clusters with the elbow method by finding the minimal within sum of squares between the different cluster numbers\n",
    "def cluster_with_wss(docs_as_vectors, number_of_dimensions=200):\n",
    "    cluster5 = cluster(docs_as_vectors, number_of_dimensions=200, number_of_clusters=5)\n",
    "    cluster10 = cluster(docs_as_vectors, number_of_dimensions=200, number_of_clusters=10)\n",
    "    cluster15 = cluster(docs_as_vectors, number_of_dimensions=200, number_of_clusters=15)\n",
    "    clusters = [cluster5, cluster10, cluster15]\n",
    "    wss_values = [get_wss(docs_as_vectors, cluster[0], cluster[1]) for cluster in clusters]\n",
    "    return clusters[wss_values.index(min(wss_values))]"
   ]
  },
  {
   "cell_type": "markdown",
   "metadata": {},
   "source": [
    "## Model Selection\n",
    "### Training and Cross Validation\n",
    "Sentence representation is the simple averaging method of the words in the sentence if word is not a stopword.\n",
    "\n",
    "\n",
    "The difference is in the clustering method. First model will be using kmeans clustering with fixed number of clusters where the number of clusters is set to 5. Second medel uses elbow method with within sums of squares method to find the optimal number of clusters: it clusters the given document with kmeans with number of clusters set to 5, 10 and 15 and calculates their respective wss values and uses the one with the least wss.\n",
    "\n",
    "It does not require an actual training, though cross validation is still done with both models."
   ]
  },
  {
   "cell_type": "markdown",
   "metadata": {},
   "source": [
    "~3 seconds"
   ]
  },
  {
   "cell_type": "code",
   "execution_count": 15,
   "metadata": {},
   "outputs": [],
   "source": [
    "train, train_dict = parse_documents_to_sentences(upper=2000)    # train set\n",
    "test, test_dict = parse_documents_to_sentences(lower=2000)    # test set\n",
    "\n",
    "summaries, summaries_dict = read_golden_summaries()\n",
    "\n",
    "scores1 = [[] for i in range(int(len(train) / FOLD_LENGTH))]\n",
    "scores2 = [[] for i in range(int(len(train) / FOLD_LENGTH))]\n",
    "rouge = Rouge()"
   ]
  },
  {
   "cell_type": "code",
   "execution_count": 16,
   "metadata": {},
   "outputs": [],
   "source": [
    "rouge1_1 = []   # model 1 rouge 1\n",
    "rouge2_1 = []   # model 1 rouge 2\n",
    "rougel_1 = []   # model 1 rouge l\n",
    "\n",
    "rouge1_2 = []   # model 2 rouge 1\n",
    "rouge2_2 = []   # model 2 rouge 2\n",
    "rougel_2 = []   # model 2 rouge l"
   ]
  },
  {
   "cell_type": "markdown",
   "metadata": {},
   "source": [
    "Both models are constructed in this section, inside the for loop, under the comments of models. Model 1 uses kmeans clustering with ficed number of clusters, second model uses clustering with elbow method.\n",
    "\n",
    "Cross validation is also done in this section where training set is split to K folds and training is done with K-1 folds and scores are tested on the remaining kth fold, for each fold. However both of my models don't require an actual training, cross validation is directly done instead.\n",
    "\n",
    "~5 minutes"
   ]
  },
  {
   "cell_type": "code",
   "execution_count": 17,
   "metadata": {},
   "outputs": [],
   "source": [
    "for i in range(int(len(train) / FOLD_LENGTH)):\n",
    "    validation = train[i * FOLD_LENGTH:(i + 1) * FOLD_LENGTH]\n",
    "    dev = list(train)\n",
    "    del dev[i * FOLD_LENGTH:(i + 1) * FOLD_LENGTH]\n",
    "   \n",
    "    docs_by_vectors1 = sent2vec_by_averaging(validation)\n",
    "\n",
    "    ######### MODEL 1 - FIXED NUMBER OF CLUSTERS ###########\n",
    "    for doc in docs_by_vectors1:\n",
    "        ass, cen = cluster(doc, number_of_clusters=5)   # Cluster with fixed number of clusters 5\n",
    "        summary = []\n",
    "        for center in cen:\n",
    "            summary.append(get_closest_point(center, doc))\n",
    "        summary_text = ''\n",
    "        for sentence in summary:\n",
    "            summary_text += validation[docs_by_vectors1.index(doc)][doc.index(sentence)] + '. '\n",
    "        score = rouge.get_scores(summary_text, summaries[docs_by_vectors1.index(doc)])\n",
    "        scores1[i].append(score)\n",
    "        rouge1_1.append(score[0]['rouge-1']['f'])\n",
    "        rouge2_1.append(score[0]['rouge-2']['f'])\n",
    "        rougel_1.append(score[0]['rouge-l']['f'])\n",
    "    \n",
    "    ######### MODEL 2 - ELBOW METHOD FOR NUMBER OF CLUSTERS ###########\n",
    "    for doc in docs_by_vectors1:\n",
    "        ass, cen = cluster_with_wss(doc)     # Find number of clusters with elbow method\n",
    "        summary = []\n",
    "        for center in cen:\n",
    "            summary.append(get_closest_point(center, doc))\n",
    "        summary_text = ''\n",
    "        for sentence in summary:\n",
    "            summary_text += validation[docs_by_vectors1.index(doc)][doc.index(sentence)] + '. '\n",
    "        score = rouge.get_scores(summary_text, summaries[docs_by_vectors1.index(doc)])\n",
    "        scores2[i].append(score)\n",
    "        rouge1_2.append(score[0]['rouge-1']['f'])\n",
    "        rouge2_2.append(score[0]['rouge-2']['f'])\n",
    "        rougel_2.append(score[0]['rouge-l']['f'])"
   ]
  },
  {
   "cell_type": "code",
   "execution_count": 22,
   "metadata": {},
   "outputs": [
    {
     "name": "stdout",
     "output_type": "stream",
     "text": [
      "MODEL 1\n",
      "rouge-1 mean: 0.16779278826072744 ± rouge-1 standard variation: 0.09854126298218319\n",
      "rouge-2 mean: 0.03593915556081726 ± rouge-2 standard variation: 0.08699922608676877\n",
      "rouge-l mean: 0.1440883831887646 ± rouge-l standard variation: 0.0961780402406993\n",
      "MODEL 2\n",
      "rouge-1 mean: 0.1757932939263654 ± rouge-1 standard variation: 0.10747332683395677\n",
      "rouge-2 mean: 0.0420758534343118 ± rouge-2 standard variation: 0.09688169055950127\n",
      "rouge-l mean: 0.1533748661658155 ± rouge-l standard variation: 0.10597695580644012\n"
     ]
    }
   ],
   "source": [
    "mean1_1 = sum(rouge1_1) / len(rouge1_1)\n",
    "std1_1 = np.std(rouge1_1)\n",
    "mean2_1 = sum(rouge2_1) / len(rouge2_1)\n",
    "std2_1 = np.std(rouge2_1)\n",
    "meanl_1 = sum(rougel_1) / len(rougel_1)\n",
    "stdl_1 = np.std(rougel_1)\n",
    "\n",
    "mean1_2 = sum(rouge1_2) / len(rouge1_2)\n",
    "std1_2 = np.std(rouge1_2)\n",
    "mean2_2 = sum(rouge2_2) / len(rouge2_2)\n",
    "std2_2 = np.std(rouge2_2)\n",
    "meanl_2 = sum(rougel_2) / len(rougel_2)\n",
    "stdl_2 = np.std(rougel_2)\n",
    "\n",
    "print('MODEL 1')\n",
    "print('rouge-1 mean: ' + str(mean1_1) + ' ± rouge-1 standard variation: ' + str(std1_1))\n",
    "print('rouge-2 mean: ' + str(mean2_1) + ' ± rouge-2 standard variation: ' + str(std2_1))\n",
    "print('rouge-l mean: ' + str(meanl_1) + ' ± rouge-l standard variation: ' + str(stdl_1))\n",
    "print('MODEL 2')\n",
    "print('rouge-1 mean: ' + str(mean1_2) + ' ± rouge-1 standard variation: ' + str(std1_2))\n",
    "print('rouge-2 mean: ' + str(mean2_2) + ' ± rouge-2 standard variation: ' + str(std2_2))\n",
    "print('rouge-l mean: ' + str(meanl_2) + ' ± rouge-l standard variation: ' + str(stdl_2))"
   ]
  },
  {
   "cell_type": "code",
   "execution_count": 23,
   "metadata": {},
   "outputs": [
    {
     "data": {
      "image/png": "[encoded data removed]",
      "text/plain": [
       "<Figure size 432x288 with 1 Axes>"
      ]
     },
     "metadata": {},
     "output_type": "display_data"
    }
   ],
   "source": [
    "x = [1, 2, 3]\n",
    "my_xticks = ['rouge-1','rouge-2','rouge-l']\n",
    "plt.title('Model 1')\n",
    "plt.xticks(x, my_xticks)\n",
    "y = [mean1_1, mean2_1, meanl_1]\n",
    "e = [std1_1, std2_1, stdl_1]\n",
    "plt.errorbar(x, y, e, linestyle='None', marker='^')\n",
    "\n",
    "plt.show()"
   ]
  },
  {
   "cell_type": "code",
   "execution_count": 24,
   "metadata": {},
   "outputs": [
    {
     "data": {
      "image/png": "[encoded data removed]",
      "text/plain": [
       "<Figure size 432x288 with 1 Axes>"
      ]
     },
     "metadata": {},
     "output_type": "display_data"
    }
   ],
   "source": [
    "x = [1, 2, 3]\n",
    "my_xticks = ['rouge-1','rouge-2','rouge-l']\n",
    "plt.title('Model 2')\n",
    "plt.xticks(x, my_xticks)\n",
    "y = [mean1_2, mean2_2, meanl_2]\n",
    "e = [std1_2, std2_2, stdl_2]\n",
    "plt.errorbar(x, y, e, linestyle='None', marker='^')\n",
    "\n",
    "plt.show()"
   ]
  },
  {
   "cell_type": "markdown",
   "metadata": {},
   "source": [
    "### Testing\n",
    "\n",
    "After comparing the rouge scores of the model which uses fixed number of clusters of 5 and model 2 which uses elbow method with within sum of squares, it has became clear that model 2 is more successful.\n",
    "\n",
    "Both models will be tested with the test set as it was specified in the description.\n",
    "\n",
    "No preprocessing what-so-ever has been done on the test set until testing process."
   ]
  },
  {
   "cell_type": "markdown",
   "metadata": {},
   "source": [
    "~1 minute"
   ]
  },
  {
   "cell_type": "code",
   "execution_count": 30,
   "metadata": {},
   "outputs": [],
   "source": [
    "rouge1_1 = []   # model 1 rouge 1\n",
    "rouge2_1 = []   # model 1 rouge 2\n",
    "rougel_1 = []   # model 1 rouge l\n",
    "\n",
    "rouge1_2 = []   # model 2 rouge 1\n",
    "rouge2_2 = []   # model 2 rouge 2\n",
    "rougel_2 = []   # model 2 rouge l\n",
    "\n",
    "docs_by_vectors_test = sent2vec_by_averaging(test)\n",
    "\n",
    "######### MODEL 1 - FIXED NUMBER OF CLUSTERS ###########\n",
    "for doc in docs_by_vectors_test:\n",
    "    ass, cen = cluster(doc, number_of_clusters=5)   # Cluster with fixed number of clusters 5\n",
    "    summary = []\n",
    "    for center in cen:\n",
    "        summary.append(get_closest_point(center, doc))\n",
    "    summary_text = ''\n",
    "    for sentence in summary:\n",
    "        summary_text += test[docs_by_vectors_test.index(doc)][doc.index(sentence)] + '. '\n",
    "    score = rouge.get_scores(summary_text, summaries[docs_by_vectors_test.index(doc)])\n",
    "    rouge1_1.append(score[0]['rouge-1']['f'])\n",
    "    rouge2_1.append(score[0]['rouge-2']['f'])\n",
    "    rougel_1.append(score[0]['rouge-l']['f'])\n",
    "\n",
    "######### MODEL 2 - ELBOW METHOD FOR NUMBER OF CLUSTERS ###########\n",
    "for doc in docs_by_vectors_test:\n",
    "    ass, cen = cluster_with_wss(doc)     # Find number of clusters with elbow method\n",
    "    summary = []\n",
    "    for center in cen:\n",
    "        summary.append(get_closest_point(center, doc))\n",
    "    summary_text = ''\n",
    "    for sentence in summary:\n",
    "        summary_text += test[docs_by_vectors_test.index(doc)][doc.index(sentence)] + '. '\n",
    "    score = rouge.get_scores(summary_text, summaries[docs_by_vectors_test.index(doc)])\n",
    "    rouge1_2.append(score[0]['rouge-1']['f'])\n",
    "    rouge2_2.append(score[0]['rouge-2']['f'])\n",
    "    rougel_2.append(score[0]['rouge-l']['f'])"
   ]
  },
  {
   "cell_type": "code",
   "execution_count": 31,
   "metadata": {},
   "outputs": [
    {
     "name": "stdout",
     "output_type": "stream",
     "text": [
      "MODEL 1\n",
      "rouge-1 mean: 0.1409994931003005 ± rouge-1 standard variation: 0.029656488361901948\n",
      "rouge-2 mean: 0.009336279476938537 ± rouge-2 standard variation: 0.009398243765743651\n",
      "rouge-l mean: 0.11834131032859002 ± rouge-l standard variation: 0.028189917606710062\n",
      "MODEL 2\n",
      "rouge-1 mean: 0.14902688744214443 ± rouge-1 standard variation: 0.029754013152266598\n",
      "rouge-2 mean: 0.012525434205194613 ± rouge-2 standard variation: 0.009068644038220408\n",
      "rouge-l mean: 0.12548608714817092 ± rouge-l standard variation: 0.029280024138356443\n"
     ]
    }
   ],
   "source": [
    "mean1_1 = sum(rouge1_1) / len(rouge1_1)\n",
    "std1_1 = np.std(rouge1_1)\n",
    "mean2_1 = sum(rouge2_1) / len(rouge2_1)\n",
    "std2_1 = np.std(rouge2_1)\n",
    "meanl_1 = sum(rougel_1) / len(rougel_1)\n",
    "stdl_1 = np.std(rougel_1)\n",
    "\n",
    "mean1_2 = sum(rouge1_2) / len(rouge1_2)\n",
    "std1_2 = np.std(rouge1_2)\n",
    "mean2_2 = sum(rouge2_2) / len(rouge2_2)\n",
    "std2_2 = np.std(rouge2_2)\n",
    "meanl_2 = sum(rougel_2) / len(rougel_2)\n",
    "stdl_2 = np.std(rougel_2)\n",
    "\n",
    "print('MODEL 1')\n",
    "print('rouge-1 mean: ' + str(mean1_1) + ' ± rouge-1 standard variation: ' + str(std1_1))\n",
    "print('rouge-2 mean: ' + str(mean2_1) + ' ± rouge-2 standard variation: ' + str(std2_1))\n",
    "print('rouge-l mean: ' + str(meanl_1) + ' ± rouge-l standard variation: ' + str(stdl_1))\n",
    "print('MODEL 2')\n",
    "print('rouge-1 mean: ' + str(mean1_2) + ' ± rouge-1 standard variation: ' + str(std1_2))\n",
    "print('rouge-2 mean: ' + str(mean2_2) + ' ± rouge-2 standard variation: ' + str(std2_2))\n",
    "print('rouge-l mean: ' + str(meanl_2) + ' ± rouge-l standard variation: ' + str(stdl_2))"
   ]
  },
  {
   "cell_type": "code",
   "execution_count": 32,
   "metadata": {},
   "outputs": [
    {
     "data": {
      "image/png": "[encoded data removed]",
      "text/plain": [
       "<Figure size 432x288 with 1 Axes>"
      ]
     },
     "metadata": {},
     "output_type": "display_data"
    }
   ],
   "source": [
    "x = [1, 2, 3]\n",
    "my_xticks = ['rouge-1','rouge-2','rouge-l']\n",
    "plt.title('Model 1')\n",
    "plt.xticks(x, my_xticks)\n",
    "y = [mean1_1, mean2_1, meanl_1]\n",
    "e = [std1_1, std2_1, stdl_1]\n",
    "plt.errorbar(x, y, e, linestyle='None', marker='^')\n",
    "\n",
    "plt.show()"
   ]
  },
  {
   "cell_type": "code",
   "execution_count": 33,
   "metadata": {},
   "outputs": [
    {
     "data": {
      "image/png": "[encoded data removed]",
      "text/plain": [
       "<Figure size 432x288 with 1 Axes>"
      ]
     },
     "metadata": {},
     "output_type": "display_data"
    }
   ],
   "source": [
    "x = [1, 2, 3]\n",
    "my_xticks = ['rouge-1','rouge-2','rouge-l']\n",
    "plt.title('Model 2')\n",
    "plt.xticks(x, my_xticks)\n",
    "y = [mean1_2, mean2_2, meanl_2]\n",
    "e = [std1_2, std2_2, stdl_2]\n",
    "plt.errorbar(x, y, e, linestyle='None', marker='^')\n",
    "\n",
    "plt.show()"
   ]
  },
  {
   "cell_type": "markdown",
   "metadata": {},
   "source": [
    "## Conclusions\n",
    "All the requirements of the project has been accomplished. \n",
    "\n",
    "It is clear that elbow method is more successfull for clustering than fixed number of clusters method, as the lenght of the documents vary, as well as their content and their content's variety.\n",
    "\n",
    "Better rouge scores has been achieved by using tf-idf weighted sentence representation instead of simple average sentence representation and the first intent was to compare models who use tf-idf weighted averaging sentence representation and simple averaging sentence representation. However, the models I had developed with tf-idf weighted sentence representation required preprocessing of the test set and also validation set. In order to create sentence representation of the validation set during the cross validation process for example, tf-idf weights of the validation set should be constructed alongside with training set, which is why I have gave up on that model, as I was not sure whether it would be accepted."
   ]
  },
  {
   "cell_type": "code",
   "execution_count": 26,
   "metadata": {},
   "outputs": [],
   "source": [
    "'''scores = [scores1, scores2]\n",
    "with open('scores.pickle', 'wb') as f:\n",
    "    vector = pickle.dump(scores, f)'''"
   ]
  }
 ],
 "metadata": {
  "kernelspec": {
   "display_name": "Python 3",
   "language": "python",
   "name": "python3"
  },
  "language_info": {
   "codemirror_mode": {
    "name": "ipython",
    "version": 3
   },
   "file_extension": ".py",
   "mimetype": "text/x-python",
   "name": "python",
   "nbconvert_exporter": "python",
   "pygments_lexer": "ipython3",
   "version": "3.6.1"
  }
 },
 "nbformat": 4,
 "nbformat_minor": 2
}
